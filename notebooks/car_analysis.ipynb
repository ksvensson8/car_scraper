{
 "cells": [
  {
   "cell_type": "code",
   "execution_count": 2,
   "metadata": {},
   "outputs": [],
   "source": [
    "from torrequest import TorRequest\n",
    "import requests\n",
    "import stem\n",
    "from bs4 import BeautifulSoup\n",
    "import json\n",
    "import pandas as pd\n",
    "import matplotlib\n",
    "import time\n",
    "import matplotlib.pyplot as plt\n",
    "%matplotlib inline\n",
    "import numpy as np\n"
   ]
  },
  {
   "cell_type": "code",
   "execution_count": 3,
   "metadata": {},
   "outputs": [],
   "source": [
    "pd.set_option('mode.chained_assignment', None)"
   ]
  },
  {
   "cell_type": "code",
   "execution_count": 4,
   "metadata": {},
   "outputs": [
    {
     "name": "stdout",
     "output_type": "stream",
     "text": [
      "My Original IP Address: 73.45.64.108\n",
      "New Ip Address 23.129.64.185\n"
     ]
    }
   ],
   "source": [
    "tr = TorRequest(password='test12345')\n",
    "SocksPort = 9052\n",
    "\n",
    "response = requests.get('http://ipecho.net/plain')\n",
    "print(\"My Original IP Address:\", response.text)\n",
    "\n",
    "tr.reset_identity() #Reset Tor\n",
    "response = tr.get('http://ipecho.net/plain')\n",
    "print(\"New Ip Address\", response.text)"
   ]
  },
  {
   "cell_type": "code",
   "execution_count": 92,
   "metadata": {},
   "outputs": [],
   "source": [
    "model_dict = {'forester':'21165','outback':'21697', 'sorento':'22084', 'ascent':'36362567'}\n",
    "make_dict = {'subaru':'20041','kia':'20068'}\n"
   ]
  },
  {
   "cell_type": "code",
   "execution_count": 203,
   "metadata": {},
   "outputs": [],
   "source": [
    "carname = 'forester'"
   ]
  },
  {
   "cell_type": "code",
   "execution_count": 94,
   "metadata": {},
   "outputs": [],
   "source": [
    "base_string = \"\"\"https://www.cars.com/for-sale/searchresults.action/?dealerType=all&mdId={0}{2}&page={1}&perPage=100&rd=50&sort=relevance&yrId=39723%2C47272%2C51683%2C56007%2C58487%2C30031936%2C35797618%2C36362520%2C36620293&zc=60045\"\"\"\n"
   ]
  },
  {
   "cell_type": "code",
   "execution_count": 95,
   "metadata": {},
   "outputs": [],
   "source": [
    "third_row = '&normFeatureId=20004525' if carname == 'sorento' else ''"
   ]
  },
  {
   "cell_type": "code",
   "execution_count": 96,
   "metadata": {},
   "outputs": [
    {
     "name": "stdout",
     "output_type": "stream",
     "text": [
      "pages:  4\n"
     ]
    }
   ],
   "source": [
    "#search_page = 'https://www.cars.com/vehicledetail/detail/{0}/overview/'.format(x)\n",
    "\n",
    "tr.reset_identity() #Reset Tor\n",
    "resp = tr.get(base_string.format(model_dict[carname],1,third_row))\n",
    "#resp = tr.get(base_string.format(model_dict[carname],1,third_row))\n",
    "soup = BeautifulSoup(resp.content, 'html.parser')\n",
    "\n",
    "json_result = json.loads(soup.find_all('script')[1].contents[0].split(';\\n')[1].split('.digitalData = ')[1])\n",
    "\n",
    "pages = json_result['page']['search']['totalNumPages']\n",
    "print('pages: ',pages)"
   ]
  },
  {
   "cell_type": "code",
   "execution_count": 97,
   "metadata": {},
   "outputs": [
    {
     "name": "stdout",
     "output_type": "stream",
     "text": [
      "page:  1\n",
      "page:  2\n",
      "page:  3\n",
      "page:  4\n"
     ]
    }
   ],
   "source": [
    "details_resp = []\n",
    "details = []\n",
    "detail_features = []\n",
    "page_dfs = []\n",
    "\n",
    "detail_cols = ['listingId','isActiveListing','canonicMakeName','trimName','modelPackageName','priceMsrp','priceOld','priceChangeDate','miles','exteriorColor',\n",
    "                  'engineDescription','listingDateSeconds','drivetrain','oneOwner','sellerAcceptsBestOffer','vehicleHistoryDetails','autoPriceDealLabel','priceBadgeInfo']\n",
    "\n",
    "\n",
    "for x in range(1,pages+1):\n",
    "    print('page: ',x)\n",
    "    if x >1:\n",
    "        tr.reset_identity()\n",
    "        resp = tr.get(base_string.format(model_dict[carname],x,third_row))\n",
    "        soup = BeautifulSoup(resp.content, 'html.parser')\n",
    "        json_result = json.loads(soup.find_all('script')[1].contents[0].split(';\\n')[1].split('.digitalData = ')[1])\n",
    "        \n",
    "    # master df of cars on page                  \n",
    "    cars = json_result['page']['vehicle']\n",
    "    page_df = pd.DataFrame(cars)\n",
    "    page_df = pd.concat([page_df.drop(['seller'], axis=1), page_df['seller'].apply(pd.Series)], axis=1)\n",
    "\n",
    "    drop_cols = ['phoneNumber2','truncatedDescription','privateSeller','customerId','rating','reviewCount','dealerChatProvider','hasCpoShowroomEnabled']\n",
    "\n",
    "    page_df.drop(drop_cols,axis = 1,inplace = True)\n",
    "    page_dfs.append(page_df)\n",
    "                            \n",
    "    # scrape listings found above and pull extra data\n",
    "    for x in page_df['listingId'].values.tolist():\n",
    "        search_page = 'https://www.cars.com/vehicledetail/detail/{0}/overview/'.format(x)\n",
    "        resp = requests.get(search_page)\n",
    "\n",
    "        soup = BeautifulSoup(resp.content, 'html.parser')\n",
    "\n",
    "        car_resp = soup.find_all('script', type=\"application/json\")\n",
    "\n",
    "        resp_dict = json.loads(car_resp[0].text)['listingDetailDto']\n",
    "        features = resp_dict['additionalFeatures']\n",
    "        details_resp.append(resp_dict)\n",
    "        #del resp_dict['additionalFeatures']\n",
    "        #del resp_dict['truncatedDescription']\n",
    "\n",
    "\n",
    "        detail_data =[resp_dict[x] for x in detail_cols]\n",
    "        details.append(detail_data)\n",
    "\n",
    "        features = resp_dict['additionalFeatures']\n",
    "        detail_features.append(features)\n",
    "\n",
    "        time.sleep(1)\n",
    "        "
   ]
  },
  {
   "cell_type": "code",
   "execution_count": 107,
   "metadata": {},
   "outputs": [],
   "source": [
    "# build response dfs\n",
    "df = pd.concat(page_dfs)\n",
    "\n",
    "detail_df = pd.DataFrame(details,columns = detail_cols)\n",
    "feature_df = pd.Series(detail_features,index = df['listingId'].values.tolist()).to_frame()\n",
    "detail_df = pd.concat([detail_df.drop(['priceBadgeInfo'], axis=1), detail_df['priceBadgeInfo'].apply(pd.Series)], axis=1)\n",
    "\n",
    "out_full = pd.merge(df, detail_df, how = 'left', on = ['listingId'])\n",
    "out_df = out_full[['listingId','make','model','year','trim','drivetrain','price','mileage','engineDescription','exteriorColor','predictedPriceV1','oneOwner','distanceFromSearchZip']]\n",
    "\n",
    "\n",
    "feature_melt = pd.DataFrame(detail_features,index = df['listingId'].values.tolist()).reset_index()\n",
    "feature_melt = pd.melt(feature_melt,id_vars = ['index']).drop(['variable'],axis = 1)\n",
    "feature_melt['value'] = feature_melt['value'].str.upper().str.replace('[^a-zA-Z0-9 ]', '')\n",
    "feature_melt = feature_melt.drop_duplicates()\n",
    "feature_melt['count'] = 1\n",
    "feature_melt = feature_melt.set_index(['index','value']).unstack('value')\n",
    "feature_melt.columns = feature_melt.columns.droplevel(0)\n",
    "feature_melt = feature_melt.fillna(0)\n",
    "feature_melt.drop([np.nan],axis = 1,inplace = True)\n",
    "feature_melt = feature_melt.reset_index().rename(columns = {'index':'listingId'})\n",
    "\n",
    "feature_dict = {'sorento':['listingId','HEATED SEATS','KEYLESS ENTRY','LEATHER SEATS'],\n",
    "               'ascent':['listingId','HEATED DRIVERS SEAT','HEATED FRONT BUCKET SEATS','HEATED FRONT SEATS']}\n",
    "\n",
    "out_df = pd.merge(out_df,feature_melt[feature_dict[carname]],how = 'left',\n",
    "         on = ['listingId'] )"
   ]
  },
  {
   "cell_type": "code",
   "execution_count": 206,
   "metadata": {},
   "outputs": [],
   "source": [
    "#reset color\n",
    "\n",
    "color_list = ['blue','green','black','orange','pink','purple','teal','lightgreen','chocolate','navy','crimson','magenta','lime', 'seagreen', 'salmon']\n",
    "trim_list = out_df['trim'].unique().tolist()\n",
    "\n",
    "color_dict = dict(zip(trim_list, color_list[0:len(trim_list)]))\n",
    "    \n",
    "out_df['color']= out_df['trim'].map(color_dict)\n",
    "out_df.loc[out_df['color']=='','color'] = 'grey'\n",
    "out_df.loc[out_df['color'].isnull(),'color'] = 'grey'\n",
    "\n",
    "# target model"
   ]
  },
  {
   "cell_type": "code",
   "execution_count": 108,
   "metadata": {},
   "outputs": [],
   "source": [
    "# out_df.to_csv('C:\\\\Users\\\\karlm\\\\PycharmProjects\\\\car_data\\\\{0}_out.csv'.format(carname))\n",
    "# feature_melt.to_csv('C:\\\\Users\\\\karlm\\\\PycharmProjects\\\\car_data\\\\{0}_features.csv'.format(carname))"
   ]
  },
  {
   "cell_type": "code",
   "execution_count": 204,
   "metadata": {},
   "outputs": [],
   "source": [
    "#read in data again\n",
    "out_df = pd.read_csv('C:\\\\Users\\\\karlm\\\\PycharmProjects\\\\car_data\\\\{0}_out.csv'.format(carname))\n",
    "feature_melt = pd.read_csv('C:\\\\Users\\\\karlm\\\\PycharmProjects\\\\car_data\\\\{0}_features.csv'.format(carname))"
   ]
  },
  {
   "cell_type": "code",
   "execution_count": 183,
   "metadata": {},
   "outputs": [],
   "source": [
    "#sorento changes\n",
    "out_df = out_df[out_df['drivetrain']=='AWD']\n",
    "\n",
    "#fix trims\n",
    "out_df.loc[out_df['trim']=='LX V6','trim'] = 'LX'\n",
    "out_df.loc[out_df['trim']=='SX V6','trim'] = 'SX'"
   ]
  },
  {
   "cell_type": "code",
   "execution_count": 185,
   "metadata": {},
   "outputs": [
    {
     "data": {
      "image/png": "[encoded data removed]",
      "text/plain": [
       "<Figure size 432x288 with 1 Axes>"
      ]
     },
     "metadata": {
      "needs_background": "light"
     },
     "output_type": "display_data"
    }
   ],
   "source": [
    "#sorento only\n",
    "mkr_dict = {'V6': 'x', 'I4': 'o'}\n",
    "\n",
    "for kind in mkr_dict:\n",
    "    d = out_df[out_df['engineDescription'].str.contains(kind)]\n",
    "    plt.scatter(d.mileage, d.price, \n",
    "                c = d.color, \n",
    "                marker = mkr_dict[kind])\n",
    "plt.show()"
   ]
  },
  {
   "cell_type": "code",
   "execution_count": 218,
   "metadata": {},
   "outputs": [],
   "source": [
    "graph_df = out_df[(out_df['year']>=2016) & (out_df['color']=='lightgreen')]"
   ]
  },
  {
   "cell_type": "code",
   "execution_count": 219,
   "metadata": {},
   "outputs": [
    {
     "data": {
      "text/plain": [
       "<matplotlib.axes._subplots.AxesSubplot at 0x2a1c52f6848>"
      ]
     },
     "execution_count": 219,
     "metadata": {},
     "output_type": "execute_result"
    },
    {
     "data": {
      "image/png": "[encoded data removed]",
      "text/plain": [
       "<Figure size 432x288 with 1 Axes>"
      ]
     },
     "metadata": {
      "needs_background": "light"
     },
     "output_type": "display_data"
    }
   ],
   "source": [
    "graph_df.plot.scatter(x = 'mileage',y = 'price',c=graph_df['color'])"
   ]
  },
  {
   "cell_type": "code",
   "execution_count": 220,
   "metadata": {},
   "outputs": [],
   "source": [
    "curr_df = graph_df[(graph_df['price']<=23000) & (graph_df['mileage']<30000) ]"
   ]
  },
  {
   "cell_type": "code",
   "execution_count": 217,
   "metadata": {},
   "outputs": [
    {
     "data": {
      "text/plain": [
       "{'Sport': 'blue',\n",
       " '2.5i': 'green',\n",
       " 'Touring': 'black',\n",
       " '2.5i Touring': 'orange',\n",
       " '2.5i Premium': 'pink',\n",
       " 'Premium': 'purple',\n",
       " '2.0XT Touring': 'teal',\n",
       " '2.5i Limited': 'lightgreen',\n",
       " '2.5X Touring': 'chocolate',\n",
       " '2.5X': 'navy',\n",
       " '2.5X Premium': 'crimson',\n",
       " '2.0XT Premium': 'magenta',\n",
       " 'Limited': 'lime',\n",
       " '2.5X Limited': 'seagreen',\n",
       " nan: 'salmon'}"
      ]
     },
     "execution_count": 217,
     "metadata": {},
     "output_type": "execute_result"
    }
   ],
   "source": [
    "color_dict"
   ]
  },
  {
   "cell_type": "code",
   "execution_count": 221,
   "metadata": {},
   "outputs": [
    {
     "data": {
      "text/html": [
       "<div>\n",
       "<style scoped>\n",
       "    .dataframe tbody tr th:only-of-type {\n",
       "        vertical-align: middle;\n",
       "    }\n",
       "\n",
       "    .dataframe tbody tr th {\n",
       "        vertical-align: top;\n",
       "    }\n",
       "\n",
       "    .dataframe thead th {\n",
       "        text-align: right;\n",
       "    }\n",
       "</style>\n",
       "<table border=\"1\" class=\"dataframe\">\n",
       "  <thead>\n",
       "    <tr style=\"text-align: right;\">\n",
       "      <th></th>\n",
       "      <th>Unnamed: 0</th>\n",
       "      <th>listingId</th>\n",
       "      <th>make</th>\n",
       "      <th>model</th>\n",
       "      <th>year</th>\n",
       "      <th>trim</th>\n",
       "      <th>drivetrain</th>\n",
       "      <th>price</th>\n",
       "      <th>mileage</th>\n",
       "      <th>engineDescription</th>\n",
       "      <th>exteriorColor</th>\n",
       "      <th>predictedPriceV1</th>\n",
       "      <th>oneOwner</th>\n",
       "      <th>distanceFromSearchZip</th>\n",
       "      <th>color</th>\n",
       "      <th>HEATED SEATS</th>\n",
       "      <th>KEYLESS ENTRY</th>\n",
       "      <th>LEATHER SEATS</th>\n",
       "    </tr>\n",
       "  </thead>\n",
       "  <tbody>\n",
       "    <tr>\n",
       "      <th>35</th>\n",
       "      <td>35</td>\n",
       "      <td>793574771</td>\n",
       "      <td>Subaru</td>\n",
       "      <td>Forester</td>\n",
       "      <td>2016</td>\n",
       "      <td>2.5i Limited</td>\n",
       "      <td>AWD</td>\n",
       "      <td>17993.0</td>\n",
       "      <td>26432.0</td>\n",
       "      <td>2.5L H4 16V MPFI DOHC</td>\n",
       "      <td>Venetian Red Pearl</td>\n",
       "      <td>20600.0</td>\n",
       "      <td>False</td>\n",
       "      <td>16</td>\n",
       "      <td>lightgreen</td>\n",
       "      <td>0.0</td>\n",
       "      <td>0.0</td>\n",
       "      <td>0.0</td>\n",
       "    </tr>\n",
       "    <tr>\n",
       "      <th>39</th>\n",
       "      <td>39</td>\n",
       "      <td>787351860</td>\n",
       "      <td>Subaru</td>\n",
       "      <td>Forester</td>\n",
       "      <td>2017</td>\n",
       "      <td>2.5i Limited</td>\n",
       "      <td>AWD</td>\n",
       "      <td>21994.0</td>\n",
       "      <td>27578.0</td>\n",
       "      <td>2.5L H4 16V MPFI DOHC</td>\n",
       "      <td>Dark Gray Metallic</td>\n",
       "      <td>22783.0</td>\n",
       "      <td>True</td>\n",
       "      <td>16</td>\n",
       "      <td>lightgreen</td>\n",
       "      <td>0.0</td>\n",
       "      <td>0.0</td>\n",
       "      <td>0.0</td>\n",
       "    </tr>\n",
       "    <tr>\n",
       "      <th>51</th>\n",
       "      <td>51</td>\n",
       "      <td>794152254</td>\n",
       "      <td>Subaru</td>\n",
       "      <td>Forester</td>\n",
       "      <td>2017</td>\n",
       "      <td>2.5i Limited</td>\n",
       "      <td>AWD</td>\n",
       "      <td>21669.0</td>\n",
       "      <td>27577.0</td>\n",
       "      <td>2.5L H4 16V MPFI DOHC</td>\n",
       "      <td>Dark Gray Metallic</td>\n",
       "      <td>22801.0</td>\n",
       "      <td>False</td>\n",
       "      <td>20</td>\n",
       "      <td>lightgreen</td>\n",
       "      <td>0.0</td>\n",
       "      <td>0.0</td>\n",
       "      <td>0.0</td>\n",
       "    </tr>\n",
       "    <tr>\n",
       "      <th>100</th>\n",
       "      <td>100</td>\n",
       "      <td>793286524</td>\n",
       "      <td>Subaru</td>\n",
       "      <td>Forester</td>\n",
       "      <td>2017</td>\n",
       "      <td>2.5i Limited</td>\n",
       "      <td>AWD</td>\n",
       "      <td>22590.0</td>\n",
       "      <td>27382.0</td>\n",
       "      <td>2.5L</td>\n",
       "      <td>Ice Silver Metallic</td>\n",
       "      <td>23443.0</td>\n",
       "      <td>False</td>\n",
       "      <td>2</td>\n",
       "      <td>lightgreen</td>\n",
       "      <td>0.0</td>\n",
       "      <td>0.0</td>\n",
       "      <td>0.0</td>\n",
       "    </tr>\n",
       "    <tr>\n",
       "      <th>268</th>\n",
       "      <td>268</td>\n",
       "      <td>797476507</td>\n",
       "      <td>Subaru</td>\n",
       "      <td>Forester</td>\n",
       "      <td>2017</td>\n",
       "      <td>2.5i Limited</td>\n",
       "      <td>AWD</td>\n",
       "      <td>22991.0</td>\n",
       "      <td>25010.0</td>\n",
       "      <td>2.5L H4 16V MPFI DOHC</td>\n",
       "      <td>Ice Silver Metallic</td>\n",
       "      <td>23443.0</td>\n",
       "      <td>True</td>\n",
       "      <td>16</td>\n",
       "      <td>lightgreen</td>\n",
       "      <td>0.0</td>\n",
       "      <td>0.0</td>\n",
       "      <td>0.0</td>\n",
       "    </tr>\n",
       "    <tr>\n",
       "      <th>351</th>\n",
       "      <td>351</td>\n",
       "      <td>797621516</td>\n",
       "      <td>Subaru</td>\n",
       "      <td>Forester</td>\n",
       "      <td>2016</td>\n",
       "      <td>2.5i Limited</td>\n",
       "      <td>AWD</td>\n",
       "      <td>20669.0</td>\n",
       "      <td>13794.0</td>\n",
       "      <td>2.5L H4 16V MPFI DOHC</td>\n",
       "      <td>Venetian Red Pearl</td>\n",
       "      <td>20972.0</td>\n",
       "      <td>False</td>\n",
       "      <td>20</td>\n",
       "      <td>lightgreen</td>\n",
       "      <td>0.0</td>\n",
       "      <td>0.0</td>\n",
       "      <td>1.0</td>\n",
       "    </tr>\n",
       "  </tbody>\n",
       "</table>\n",
       "</div>"
      ],
      "text/plain": [
       "     Unnamed: 0  listingId    make     model  year          trim drivetrain  \\\n",
       "35           35  793574771  Subaru  Forester  2016  2.5i Limited        AWD   \n",
       "39           39  787351860  Subaru  Forester  2017  2.5i Limited        AWD   \n",
       "51           51  794152254  Subaru  Forester  2017  2.5i Limited        AWD   \n",
       "100         100  793286524  Subaru  Forester  2017  2.5i Limited        AWD   \n",
       "268         268  797476507  Subaru  Forester  2017  2.5i Limited        AWD   \n",
       "351         351  797621516  Subaru  Forester  2016  2.5i Limited        AWD   \n",
       "\n",
       "       price  mileage      engineDescription        exteriorColor  \\\n",
       "35   17993.0  26432.0  2.5L H4 16V MPFI DOHC   Venetian Red Pearl   \n",
       "39   21994.0  27578.0  2.5L H4 16V MPFI DOHC   Dark Gray Metallic   \n",
       "51   21669.0  27577.0  2.5L H4 16V MPFI DOHC   Dark Gray Metallic   \n",
       "100  22590.0  27382.0                   2.5L  Ice Silver Metallic   \n",
       "268  22991.0  25010.0  2.5L H4 16V MPFI DOHC  Ice Silver Metallic   \n",
       "351  20669.0  13794.0  2.5L H4 16V MPFI DOHC   Venetian Red Pearl   \n",
       "\n",
       "     predictedPriceV1  oneOwner  distanceFromSearchZip       color  \\\n",
       "35            20600.0     False                     16  lightgreen   \n",
       "39            22783.0      True                     16  lightgreen   \n",
       "51            22801.0     False                     20  lightgreen   \n",
       "100           23443.0     False                      2  lightgreen   \n",
       "268           23443.0      True                     16  lightgreen   \n",
       "351           20972.0     False                     20  lightgreen   \n",
       "\n",
       "     HEATED SEATS  KEYLESS ENTRY  LEATHER SEATS  \n",
       "35            0.0            0.0            0.0  \n",
       "39            0.0            0.0            0.0  \n",
       "51            0.0            0.0            0.0  \n",
       "100           0.0            0.0            0.0  \n",
       "268           0.0            0.0            0.0  \n",
       "351           0.0            0.0            1.0  "
      ]
     },
     "execution_count": 221,
     "metadata": {},
     "output_type": "execute_result"
    }
   ],
   "source": [
    "curr_df"
   ]
  }
 ],
 "metadata": {
  "kernelspec": {
   "display_name": "Python 3",
   "language": "python",
   "name": "python3"
  },
  "language_info": {
   "codemirror_mode": {
    "name": "ipython",
    "version": 3
   },
   "file_extension": ".py",
   "mimetype": "text/x-python",
   "name": "python",
   "nbconvert_exporter": "python",
   "pygments_lexer": "ipython3",
   "version": "3.7.5"
  }
 },
 "nbformat": 4,
 "nbformat_minor": 2
}
